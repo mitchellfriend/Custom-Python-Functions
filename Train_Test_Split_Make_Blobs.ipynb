{
 "cells": [
  {
   "cell_type": "code",
   "execution_count": 1,
   "metadata": {},
   "outputs": [],
   "source": [
    "def create_dataset(n_samples, n_centers, n_features, cluster_std, random_state):\n",
    "    \n",
    "    import pandas as pd\n",
    "    from sklearn.datasets.samples_generator import make_blobs\n",
    "    from keras.utils import to_categorical\n",
    "    \n",
    "\n",
    "# generate classification dataset\n",
    "    X, y = make_blobs(n_samples=n_samples,\n",
    "                      centers=n_centers,\n",
    "                      n_features=n_features,\n",
    "                      cluster_std=cluster_std,\n",
    "                      random_state=random_state)\n",
    "\n",
    "    X = pd.DataFrame(X)\n",
    "    y = pd.DataFrame({'Response':y})\n",
    "    df = pd.merge(X,y, left_index=True, right_index=True)\n",
    "    df['Response'] = df['Response'].astype(str)\n",
    "        \n",
    "    \n",
    "    #split into train and test\n",
    "    from sklearn.model_selection import StratifiedShuffleSplit\n",
    "\n",
    "    split = StratifiedShuffleSplit(n_splits=1, test_size=0.2, random_state=42)\n",
    "    for train_index, test_index in split.split(df, df['Response']):\n",
    "        strat_train_set = df.loc[train_index]\n",
    "        strat_test_set = df.loc[test_index]\n",
    "    \n",
    "    X_train = strat_train_set.drop('Response', axis=1)\n",
    "    X_test = strat_test_set.drop('Response', axis=1)\n",
    "    y_train = pd.DataFrame(strat_train_set['Response'].copy())\n",
    "    y_test = pd.DataFrame(strat_test_set['Response'].copy())\n",
    "        \n",
    "    return(df, X_train, X_test, y_train, y_test)"
   ]
  }
 ],
 "metadata": {
  "kernelspec": {
   "display_name": "Python 3",
   "language": "python",
   "name": "python3"
  },
  "language_info": {
   "codemirror_mode": {
    "name": "ipython",
    "version": 3
   },
   "file_extension": ".py",
   "mimetype": "text/x-python",
   "name": "python",
   "nbconvert_exporter": "python",
   "pygments_lexer": "ipython3",
   "version": "3.6.7"
  }
 },
 "nbformat": 4,
 "nbformat_minor": 2
}
