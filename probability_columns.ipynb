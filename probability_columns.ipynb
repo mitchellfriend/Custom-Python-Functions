{
 "cells": [
  {
   "cell_type": "code",
   "execution_count": 1,
   "metadata": {},
   "outputs": [],
   "source": [
    "def probability_columns(X_test, algorithm, threshold_percent, number_of_columns, name_of_columns):\n",
    "    \n",
    "    \"\"\"X_test = (array) your test data,\n",
    "        algorithm = (*_clf) algorithm that prints out probabilities clf_format\n",
    "        threshold_percent = (int: decimal 0 to 1)  what predicition probability should your threshold predict\n",
    "        number_of_columns = (int) how many classes are you predicting for\n",
    "        name_of_columns = (string) column names as string\"\"\"\n",
    "    \n",
    "    #import modules\n",
    "    import pandas as pd\n",
    "    import numpy as np\n",
    "        \n",
    "    def increasing_column_name_generator(number_of_columns, name_of_columns):\n",
    "        \"\"\"specify number of columns as an integer and name of columns as a string\"\"\"\n",
    "        \n",
    "        column_name_list = [] #empty list to append column names to\n",
    "        counter = 0  #counter for new column name+number\n",
    "        while counter < number_of_columns: #iterate while counter is less than specified column amount\n",
    "            final_column_name = name_of_columns+'_'+str(counter)  #create final column name\n",
    "            column_name_list.append(final_column_name) #append it to list\n",
    "            counter += 1 #increase apending column number by 1\n",
    "        return(column_name_list) #return list of column names\n",
    "\n",
    "    prob = (algorithm.predict_proba(X_test)) #predict the probabilites of each class\n",
    "    prob = pd.DataFrame(prob, columns=increasing_column_name_generator(number_of_columns, name_of_columns))#create df w/ prob columns\n",
    "    max_list = prob.max(axis=1) #get list of highest prediction probabilities\n",
    "    prob = prob.round(decimals=2) #round to 2 decimal points \n",
    "    prob['Max_ID'] = prob.idxmax(axis=1) #create column that specifies which column has highest prediction value\n",
    "    prob['Max'] = max_list.round(decimals=2) # round max_list to 2 decimal points\n",
    "    prob['Threshold'] = np.where(prob['Max'] > threshold_percent, 1, 0) #create threshold column\n",
    "    return(prob) #return df"
   ]
  }
 ],
 "metadata": {
  "kernelspec": {
   "display_name": "Python 3",
   "language": "python",
   "name": "python3"
  },
  "language_info": {
   "codemirror_mode": {
    "name": "ipython",
    "version": 3
   },
   "file_extension": ".py",
   "mimetype": "text/x-python",
   "name": "python",
   "nbconvert_exporter": "python",
   "pygments_lexer": "ipython3",
   "version": "3.6.7"
  }
 },
 "nbformat": 4,
 "nbformat_minor": 2
}
